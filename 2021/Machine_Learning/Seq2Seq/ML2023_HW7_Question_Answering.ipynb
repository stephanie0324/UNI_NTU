{
 "cells": [
  {
   "cell_type": "code",
   "execution_count": 1,
   "metadata": {},
   "outputs": [
    {
     "name": "stdout",
     "output_type": "stream",
     "text": [
      "Mon Dec  4 09:42:26 2023       \n",
      "+---------------------------------------------------------------------------------------+\n",
      "| NVIDIA-SMI 535.113.01             Driver Version: 535.113.01   CUDA Version: 12.2     |\n",
      "|-----------------------------------------+----------------------+----------------------+\n",
      "| GPU  Name                 Persistence-M | Bus-Id        Disp.A | Volatile Uncorr. ECC |\n",
      "| Fan  Temp   Perf          Pwr:Usage/Cap |         Memory-Usage | GPU-Util  Compute M. |\n",
      "|                                         |                      |               MIG M. |\n",
      "|=========================================+======================+======================|\n",
      "|   0  NVIDIA RTX 6000 Ada Gene...    On  | 00000000:4F:00.0 Off |                  Off |\n",
      "| 32%   53C    P0              83W / 300W |      4MiB / 49140MiB |      0%      Default |\n",
      "|                                         |                      |                  N/A |\n",
      "+-----------------------------------------+----------------------+----------------------+\n",
      "                                                                                         \n",
      "+---------------------------------------------------------------------------------------+\n",
      "| Processes:                                                                            |\n",
      "|  GPU   GI   CI        PID   Type   Process name                            GPU Memory |\n",
      "|        ID   ID                                                             Usage      |\n",
      "|=======================================================================================|\n",
      "|  No running processes found                                                           |\n",
      "+---------------------------------------------------------------------------------------+\n"
     ]
    }
   ],
   "source": [
    "!nvidia-smi"
   ]
  },
  {
   "cell_type": "markdown",
   "metadata": {},
   "source": [
    "## Import"
   ]
  },
  {
   "cell_type": "code",
   "execution_count": 2,
   "metadata": {},
   "outputs": [],
   "source": [
    "import json\n",
    "import numpy as np\n",
    "import random\n",
    "import torch\n",
    "from torch.utils.data import DataLoader, Dataset \n",
    "from transformers import AdamW\n",
    "\n",
    "from tqdm.auto import tqdm\n",
    "\n",
    "device = \"cuda\" if torch.cuda.is_available() else \"cpu\"\n",
    "\n",
    "# Fix random seed for reproducibility\n",
    "def same_seeds(seed):\n",
    "\ttorch.manual_seed(seed)\n",
    "\tif torch.cuda.is_available():\n",
    "\t\t\ttorch.cuda.manual_seed(seed)\n",
    "\t\t\ttorch.cuda.manual_seed_all(seed)\n",
    "\tnp.random.seed(seed)\n",
    "\trandom.seed(seed)\n",
    "\ttorch.backends.cudnn.benchmark = False\n",
    "\ttorch.backends.cudnn.deterministic = True\n",
    "same_seeds(2)"
   ]
  },
  {
   "cell_type": "markdown",
   "metadata": {},
   "source": [
    "## Load Model"
   ]
  },
  {
   "cell_type": "code",
   "execution_count": 18,
   "metadata": {},
   "outputs": [],
   "source": [
    "from transformers import (\n",
    "  AutoTokenizer,\n",
    "  AutoModelForQuestionAnswering,\n",
    ")\n",
    "MODEL_NAME = 'liam168/qa-roberta-base-chinese-extractive'\n",
    "model = AutoModelForQuestionAnswering.from_pretrained(MODEL_NAME).to(device)\n",
    "tokenizer = AutoTokenizer.from_pretrained(MODEL_NAME)\n",
    "\n",
    "# You can safely ignore the warning message (it pops up because new prediction heads for QA are initialized randomly)"
   ]
  },
  {
   "cell_type": "markdown",
   "metadata": {},
   "source": [
    "## Dataset"
   ]
  },
  {
   "cell_type": "code",
   "execution_count": 19,
   "metadata": {},
   "outputs": [],
   "source": [
    "def read_data(file):\n",
    "    with open(file, 'r', encoding=\"utf-8\") as reader:\n",
    "        data = json.load(reader)\n",
    "    return data[\"questions\"], data[\"paragraphs\"]\n",
    "\n",
    "train_questions, train_paragraphs = read_data(\"hw7_train.json\")\n",
    "dev_questions, dev_paragraphs = read_data(\"hw7_dev.json\")\n",
    "test_questions, test_paragraphs = read_data(\"hw7_test.json\")"
   ]
  },
  {
   "cell_type": "code",
   "execution_count": 20,
   "metadata": {},
   "outputs": [
    {
     "name": "stderr",
     "output_type": "stream",
     "text": [
      "Token indices sequence length is longer than the specified maximum sequence length for this model (566 > 512). Running this sequence through the model will result in indexing errors\n"
     ]
    }
   ],
   "source": [
    "# Tokenize questions and paragraphs separately\n",
    "# 「add_special_tokens」 is set to False since special tokens will be added when tokenized questions and paragraphs are combined in datset __getitem__ \n",
    "\n",
    "train_questions_tokenized = tokenizer([train_question[\"question_text\"] for train_question in train_questions], add_special_tokens=False)\n",
    "dev_questions_tokenized = tokenizer([dev_question[\"question_text\"] for dev_question in dev_questions], add_special_tokens=False)\n",
    "test_questions_tokenized = tokenizer([test_question[\"question_text\"] for test_question in test_questions], add_special_tokens=False) \n",
    "\n",
    "train_paragraphs_tokenized = tokenizer(train_paragraphs, add_special_tokens=False)\n",
    "dev_paragraphs_tokenized = tokenizer(dev_paragraphs, add_special_tokens=False)\n",
    "test_paragraphs_tokenized = tokenizer(test_paragraphs, add_special_tokens=False)\n",
    "\n",
    "# You can safely ignore the warning message as tokenized sequences will be futher processed in datset __getitem__ before passing to model"
   ]
  },
  {
   "cell_type": "code",
   "execution_count": 21,
   "metadata": {},
   "outputs": [],
   "source": [
    "class QA_Dataset(Dataset):\n",
    "    def __init__(self, split, questions, tokenized_questions, tokenized_paragraphs):\n",
    "        self.split = split\n",
    "        self.questions = questions\n",
    "        self.tokenized_questions = tokenized_questions\n",
    "        self.tokenized_paragraphs = tokenized_paragraphs\n",
    "        self.max_question_len = 60\n",
    "        self.max_paragraph_len = 150\n",
    "        \n",
    "        ##### TODO: Change value of doc_stride #####\n",
    "        self.doc_stride = 10\n",
    "\n",
    "        # Input sequence length = [CLS] + question + [SEP] + paragraph + [SEP]\n",
    "        self.max_seq_len = 1 + self.max_question_len + 1 + self.max_paragraph_len + 1\n",
    "\n",
    "    def __len__(self):\n",
    "        return len(self.questions)\n",
    "\n",
    "    def __getitem__(self, idx):\n",
    "        question = self.questions[idx]\n",
    "        tokenized_question = self.tokenized_questions[idx]\n",
    "        tokenized_paragraph = self.tokenized_paragraphs[question[\"paragraph_id\"]]\n",
    "\n",
    "        ##### TODO: Preprocessing #####\n",
    "        # Hint: How to prevent model from learning something it should not learn\n",
    "        if self.split == \"train\":\n",
    "            # Convert answer's start/end positions in paragraph_text to start/end positions in tokenized_paragraph  \n",
    "            answer_start_token = tokenized_paragraph.char_to_token(question[\"answer_start\"])\n",
    "            answer_end_token = tokenized_paragraph.char_to_token(question[\"answer_end\"])\n",
    "\n",
    "            # A single window is obtained by slicing the portion of paragraph containing the answer\n",
    "            mid = (answer_start_token + answer_end_token) // 2\n",
    "            paragraph_start = max(0, min(mid - self.max_paragraph_len//5*4 , len(tokenized_paragraph) - self.max_paragraph_len))\n",
    "            # paragraph_start = 0 + mid//2\n",
    "            paragraph_end = paragraph_start + self.max_paragraph_len\n",
    "\n",
    "            # Slice question/paragraph and add special tokens (101: CLS, 102: SEP)\n",
    "            input_ids_question = [101] + tokenized_question.ids[:self.max_question_len] + [102] \n",
    "            input_ids_paragraph = tokenized_paragraph.ids[paragraph_start : paragraph_end] + [102]\t\t\n",
    "            \n",
    "            # Convert answer's start/end positions in tokenized_paragraph to start/end positions in the window  \n",
    "            answer_start_token += len(input_ids_question) - paragraph_start\n",
    "            answer_end_token += len(input_ids_question) - paragraph_start\n",
    "            \n",
    "            # Pad sequence and obtain inputs to model \n",
    "            input_ids, token_type_ids, attention_mask = self.padding(input_ids_question, input_ids_paragraph)\n",
    "            return torch.tensor(input_ids), torch.tensor(token_type_ids), torch.tensor(attention_mask), answer_start_token, answer_end_token\n",
    "\n",
    "        # Validation/Testing\n",
    "        else:\n",
    "            input_ids_list, token_type_ids_list, attention_mask_list = [], [], []\n",
    "            \n",
    "            # Paragraph is split into several windows, each with start positions separated by step \"doc_stride\"\n",
    "            for i in range(0, len(tokenized_paragraph), self.doc_stride):\n",
    "                \n",
    "                # Slice question/paragraph and add special tokens (101: CLS, 102: SEP)\n",
    "                input_ids_question = [101] + tokenized_question.ids[:self.max_question_len] + [102]\n",
    "                input_ids_paragraph = tokenized_paragraph.ids[i : i + self.max_paragraph_len] + [102]\n",
    "                \n",
    "                # Pad sequence and obtain inputs to model\n",
    "                input_ids, token_type_ids, attention_mask = self.padding(input_ids_question, input_ids_paragraph)\n",
    "                \n",
    "                input_ids_list.append(input_ids)\n",
    "                token_type_ids_list.append(token_type_ids)\n",
    "                attention_mask_list.append(attention_mask)\n",
    "            \n",
    "            return torch.tensor(input_ids_list), torch.tensor(token_type_ids_list), torch.tensor(attention_mask_list)\n",
    "\n",
    "    def padding(self, input_ids_question, input_ids_paragraph):\n",
    "        # Pad zeros if sequence length is shorter than max_seq_len\n",
    "        padding_len = self.max_seq_len - len(input_ids_question) - len(input_ids_paragraph)\n",
    "        # Indices of input sequence tokens in the vocabulary\n",
    "        input_ids = input_ids_question + input_ids_paragraph + [0] * padding_len\n",
    "        # Segment token indices to indicate first and second portions of the inputs. Indices are selected in [0, 1]\n",
    "        token_type_ids = [0] * len(input_ids_question) + [1] * len(input_ids_paragraph) + [0] * padding_len\n",
    "        # Mask to avoid performing attention on padding token indices. Mask values selected in [0, 1]\n",
    "        attention_mask = [1] * (len(input_ids_question) + len(input_ids_paragraph)) + [0] * padding_len\n",
    "        \n",
    "        return input_ids, token_type_ids, attention_mask\n",
    "\n",
    "train_set = QA_Dataset(\"train\", train_questions, train_questions_tokenized, train_paragraphs_tokenized)\n",
    "dev_set = QA_Dataset(\"dev\", dev_questions, dev_questions_tokenized, dev_paragraphs_tokenized)\n",
    "test_set = QA_Dataset(\"test\", test_questions, test_questions_tokenized, test_paragraphs_tokenized)"
   ]
  },
  {
   "cell_type": "markdown",
   "metadata": {},
   "source": [
    "## Functions"
   ]
  },
  {
   "cell_type": "code",
   "execution_count": 22,
   "metadata": {},
   "outputs": [],
   "source": [
    "# Evaluation \n",
    "def evaluate(data, output):\n",
    "    ##### TODO: Postprocessing #####\n",
    "    # There is a bug and room for improvement in postprocessing \n",
    "    # Hint: Open your prediction file to see what is wrong \n",
    "    \n",
    "    answer = ''\n",
    "    max_prob = float('-inf')\n",
    "    num_of_windows = data[0].shape[1]\n",
    "    \n",
    "    for k in range(num_of_windows):\n",
    "        # Obtain answer by choosing the most probable start position / end position\n",
    "        start_prob, start_index = torch.max(output.start_logits[k], dim=0)\n",
    "        end_prob, end_index = torch.max(output.end_logits[k], dim=0)\n",
    "        \n",
    "        # Probability of answer is calculated as sum of start_prob and end_prob\n",
    "        prob = start_prob + end_prob\n",
    "        \n",
    "        # Replace answer if calculated probability is larger than previous windows\n",
    "        if prob > max_prob:\n",
    "            # Convert tokens to chars (e.g. [1920, 7032] --> \"大 金\")\n",
    "            if end_index < start_index:\n",
    "                pass\n",
    "            else:\n",
    "                max_prob = prob\n",
    "                answer = tokenizer.decode(data[0][0][k][start_index : end_index + 1])\n",
    "\n",
    "    REPLACE_LIST = ['[SEP]','[CLS]','[PAD]',' ']\n",
    "    for rep in REPLACE_LIST:          \n",
    "        ans = answer.replace(rep,'')\n",
    "    \n",
    "    # Remove spaces in answer (e.g. \"大 金\" --> \"大金\")\n",
    "    return ans"
   ]
  },
  {
   "cell_type": "markdown",
   "metadata": {},
   "source": [
    "## Training"
   ]
  },
  {
   "cell_type": "code",
   "execution_count": 25,
   "metadata": {},
   "outputs": [
    {
     "name": "stdout",
     "output_type": "stream",
     "text": [
      "Start Training ...\n"
     ]
    },
    {
     "name": "stderr",
     "output_type": "stream",
     "text": [
      "/home/B20711/anaconda2/envs/py3.8/lib/python3.8/site-packages/transformers/optimization.py:411: FutureWarning: This implementation of AdamW is deprecated and will be removed in a future version. Use the PyTorch implementation torch.optim.AdamW instead, or set `no_deprecation_warning=True` to disable this warning\n",
      "  warnings.warn(\n"
     ]
    },
    {
     "data": {
      "application/vnd.jupyter.widget-view+json": {
       "model_id": "bda81368863e4ba8bb7dadd15380ccf2",
       "version_major": 2,
       "version_minor": 0
      },
      "text/plain": [
       "  0%|          | 0/842 [00:00<?, ?it/s]"
      ]
     },
     "metadata": {},
     "output_type": "display_data"
    },
    {
     "name": "stdout",
     "output_type": "stream",
     "text": [
      "Epoch 1 | Step 100 | loss = 0.116, acc = 0.920\n",
      "Epoch 1 | Step 200 | loss = 0.126, acc = 0.921\n",
      "Epoch 1 | Step 300 | loss = 0.134, acc = 0.919\n",
      "Epoch 1 | Step 400 | loss = 0.139, acc = 0.924\n",
      "Epoch 1 | Step 500 | loss = 0.126, acc = 0.927\n",
      "Epoch 1 | Step 600 | loss = 0.129, acc = 0.923\n",
      "Epoch 1 | Step 700 | loss = 0.120, acc = 0.924\n",
      "Epoch 1 | Step 800 | loss = 0.134, acc = 0.920\n",
      "Evaluating Dev Set ...\n"
     ]
    },
    {
     "data": {
      "application/vnd.jupyter.widget-view+json": {
       "model_id": "10c13887b205430b9d532e421c053cb4",
       "version_major": 2,
       "version_minor": 0
      },
      "text/plain": [
       "  0%|          | 0/2863 [00:00<?, ?it/s]"
      ]
     },
     "metadata": {},
     "output_type": "display_data"
    },
    {
     "name": "stdout",
     "output_type": "stream",
     "text": [
      "Validation | Epoch 1 | acc = 0.770\n"
     ]
    },
    {
     "data": {
      "application/vnd.jupyter.widget-view+json": {
       "model_id": "83a07395b2c744cf8c0a49caae7f05ef",
       "version_major": 2,
       "version_minor": 0
      },
      "text/plain": [
       "  0%|          | 0/842 [00:00<?, ?it/s]"
      ]
     },
     "metadata": {},
     "output_type": "display_data"
    },
    {
     "name": "stdout",
     "output_type": "stream",
     "text": [
      "Epoch 2 | Step 100 | loss = 0.124, acc = 0.915\n",
      "Epoch 2 | Step 200 | loss = 0.119, acc = 0.932\n",
      "Epoch 2 | Step 300 | loss = 0.123, acc = 0.927\n",
      "Epoch 2 | Step 400 | loss = 0.129, acc = 0.918\n",
      "Epoch 2 | Step 500 | loss = 0.142, acc = 0.919\n",
      "Epoch 2 | Step 600 | loss = 0.120, acc = 0.926\n",
      "Epoch 2 | Step 700 | loss = 0.123, acc = 0.928\n",
      "Epoch 2 | Step 800 | loss = 0.126, acc = 0.928\n",
      "Evaluating Dev Set ...\n"
     ]
    },
    {
     "data": {
      "application/vnd.jupyter.widget-view+json": {
       "model_id": "047716d7432d4f47b48941f1c2a0b9d0",
       "version_major": 2,
       "version_minor": 0
      },
      "text/plain": [
       "  0%|          | 0/2863 [00:00<?, ?it/s]"
      ]
     },
     "metadata": {},
     "output_type": "display_data"
    },
    {
     "name": "stdout",
     "output_type": "stream",
     "text": [
      "Validation | Epoch 2 | acc = 0.768\n"
     ]
    },
    {
     "data": {
      "application/vnd.jupyter.widget-view+json": {
       "model_id": "cabc28254d3c4831b8a0089b61c8b615",
       "version_major": 2,
       "version_minor": 0
      },
      "text/plain": [
       "  0%|          | 0/842 [00:00<?, ?it/s]"
      ]
     },
     "metadata": {},
     "output_type": "display_data"
    },
    {
     "name": "stdout",
     "output_type": "stream",
     "text": [
      "Epoch 3 | Step 100 | loss = 0.125, acc = 0.914\n",
      "Epoch 3 | Step 200 | loss = 0.115, acc = 0.929\n",
      "Epoch 3 | Step 300 | loss = 0.122, acc = 0.924\n",
      "Epoch 3 | Step 400 | loss = 0.117, acc = 0.928\n",
      "Epoch 3 | Step 500 | loss = 0.123, acc = 0.924\n",
      "Epoch 3 | Step 600 | loss = 0.121, acc = 0.928\n",
      "Epoch 3 | Step 700 | loss = 0.129, acc = 0.918\n",
      "Epoch 3 | Step 800 | loss = 0.118, acc = 0.924\n",
      "Evaluating Dev Set ...\n"
     ]
    },
    {
     "data": {
      "application/vnd.jupyter.widget-view+json": {
       "model_id": "5939704554734e34801e2eee00290aee",
       "version_major": 2,
       "version_minor": 0
      },
      "text/plain": [
       "  0%|          | 0/2863 [00:00<?, ?it/s]"
      ]
     },
     "metadata": {},
     "output_type": "display_data"
    },
    {
     "name": "stdout",
     "output_type": "stream",
     "text": [
      "Validation | Epoch 3 | acc = 0.768\n"
     ]
    },
    {
     "data": {
      "application/vnd.jupyter.widget-view+json": {
       "model_id": "609b11c09fbb443f832e76e3b968725a",
       "version_major": 2,
       "version_minor": 0
      },
      "text/plain": [
       "  0%|          | 0/842 [00:00<?, ?it/s]"
      ]
     },
     "metadata": {},
     "output_type": "display_data"
    },
    {
     "name": "stdout",
     "output_type": "stream",
     "text": [
      "Epoch 4 | Step 100 | loss = 0.129, acc = 0.913\n",
      "Epoch 4 | Step 200 | loss = 0.115, acc = 0.934\n",
      "Epoch 4 | Step 300 | loss = 0.127, acc = 0.921\n",
      "Epoch 4 | Step 400 | loss = 0.129, acc = 0.923\n",
      "Epoch 4 | Step 500 | loss = 0.122, acc = 0.922\n",
      "Epoch 4 | Step 600 | loss = 0.122, acc = 0.925\n",
      "Epoch 4 | Step 700 | loss = 0.121, acc = 0.926\n",
      "Epoch 4 | Step 800 | loss = 0.139, acc = 0.916\n",
      "Evaluating Dev Set ...\n"
     ]
    },
    {
     "data": {
      "application/vnd.jupyter.widget-view+json": {
       "model_id": "85cda9c1cac1430faf6158457b2d304e",
       "version_major": 2,
       "version_minor": 0
      },
      "text/plain": [
       "  0%|          | 0/2863 [00:00<?, ?it/s]"
      ]
     },
     "metadata": {},
     "output_type": "display_data"
    },
    {
     "name": "stdout",
     "output_type": "stream",
     "text": [
      "Validation | Epoch 4 | acc = 0.770\n"
     ]
    },
    {
     "data": {
      "application/vnd.jupyter.widget-view+json": {
       "model_id": "b8733080e00349d39fceca2dba025c6c",
       "version_major": 2,
       "version_minor": 0
      },
      "text/plain": [
       "  0%|          | 0/842 [00:00<?, ?it/s]"
      ]
     },
     "metadata": {},
     "output_type": "display_data"
    },
    {
     "name": "stdout",
     "output_type": "stream",
     "text": [
      "Epoch 5 | Step 100 | loss = 0.116, acc = 0.914\n",
      "Epoch 5 | Step 200 | loss = 0.134, acc = 0.920\n",
      "Epoch 5 | Step 300 | loss = 0.118, acc = 0.927\n",
      "Epoch 5 | Step 400 | loss = 0.116, acc = 0.927\n",
      "Epoch 5 | Step 500 | loss = 0.111, acc = 0.929\n",
      "Epoch 5 | Step 600 | loss = 0.116, acc = 0.927\n",
      "Epoch 5 | Step 700 | loss = 0.135, acc = 0.923\n",
      "Epoch 5 | Step 800 | loss = 0.133, acc = 0.923\n",
      "Evaluating Dev Set ...\n"
     ]
    },
    {
     "data": {
      "application/vnd.jupyter.widget-view+json": {
       "model_id": "aeb284cde6c74d9bb53036a37a868211",
       "version_major": 2,
       "version_minor": 0
      },
      "text/plain": [
       "  0%|          | 0/2863 [00:00<?, ?it/s]"
      ]
     },
     "metadata": {},
     "output_type": "display_data"
    },
    {
     "name": "stdout",
     "output_type": "stream",
     "text": [
      "Validation | Epoch 5 | acc = 0.769\n"
     ]
    },
    {
     "data": {
      "application/vnd.jupyter.widget-view+json": {
       "model_id": "26d1b61d98c14a93b354aa593a2de67d",
       "version_major": 2,
       "version_minor": 0
      },
      "text/plain": [
       "  0%|          | 0/842 [00:00<?, ?it/s]"
      ]
     },
     "metadata": {},
     "output_type": "display_data"
    },
    {
     "name": "stdout",
     "output_type": "stream",
     "text": [
      "Epoch 6 | Step 100 | loss = 0.117, acc = 0.913\n",
      "Epoch 6 | Step 200 | loss = 0.126, acc = 0.925\n",
      "Epoch 6 | Step 300 | loss = 0.118, acc = 0.928\n",
      "Epoch 6 | Step 400 | loss = 0.125, acc = 0.925\n",
      "Epoch 6 | Step 500 | loss = 0.124, acc = 0.918\n",
      "Epoch 6 | Step 600 | loss = 0.124, acc = 0.923\n",
      "Epoch 6 | Step 700 | loss = 0.113, acc = 0.936\n",
      "Epoch 6 | Step 800 | loss = 0.113, acc = 0.933\n",
      "Evaluating Dev Set ...\n"
     ]
    },
    {
     "data": {
      "application/vnd.jupyter.widget-view+json": {
       "model_id": "08eea91e04534bb5883aaa9d562cecf6",
       "version_major": 2,
       "version_minor": 0
      },
      "text/plain": [
       "  0%|          | 0/2863 [00:00<?, ?it/s]"
      ]
     },
     "metadata": {},
     "output_type": "display_data"
    },
    {
     "name": "stdout",
     "output_type": "stream",
     "text": [
      "Validation | Epoch 6 | acc = 0.766\n"
     ]
    },
    {
     "data": {
      "application/vnd.jupyter.widget-view+json": {
       "model_id": "e9d9fc6a1c364055a601175943eb868d",
       "version_major": 2,
       "version_minor": 0
      },
      "text/plain": [
       "  0%|          | 0/842 [00:00<?, ?it/s]"
      ]
     },
     "metadata": {},
     "output_type": "display_data"
    },
    {
     "name": "stdout",
     "output_type": "stream",
     "text": [
      "Epoch 7 | Step 100 | loss = 0.127, acc = 0.919\n",
      "Epoch 7 | Step 200 | loss = 0.121, acc = 0.923\n",
      "Epoch 7 | Step 300 | loss = 0.122, acc = 0.928\n",
      "Epoch 7 | Step 400 | loss = 0.119, acc = 0.927\n",
      "Epoch 7 | Step 500 | loss = 0.121, acc = 0.929\n",
      "Epoch 7 | Step 600 | loss = 0.107, acc = 0.937\n",
      "Epoch 7 | Step 700 | loss = 0.123, acc = 0.924\n",
      "Epoch 7 | Step 800 | loss = 0.121, acc = 0.927\n",
      "Evaluating Dev Set ...\n"
     ]
    },
    {
     "data": {
      "application/vnd.jupyter.widget-view+json": {
       "model_id": "ad4ceba75ab84ad78ec270f3011daccd",
       "version_major": 2,
       "version_minor": 0
      },
      "text/plain": [
       "  0%|          | 0/2863 [00:00<?, ?it/s]"
      ]
     },
     "metadata": {},
     "output_type": "display_data"
    },
    {
     "name": "stdout",
     "output_type": "stream",
     "text": [
      "Validation | Epoch 7 | acc = 0.765\n"
     ]
    },
    {
     "data": {
      "application/vnd.jupyter.widget-view+json": {
       "model_id": "10b00a08421e422599cc15ac5b6ce7ad",
       "version_major": 2,
       "version_minor": 0
      },
      "text/plain": [
       "  0%|          | 0/842 [00:00<?, ?it/s]"
      ]
     },
     "metadata": {},
     "output_type": "display_data"
    },
    {
     "name": "stdout",
     "output_type": "stream",
     "text": [
      "Epoch 8 | Step 100 | loss = 0.112, acc = 0.922\n",
      "Epoch 8 | Step 200 | loss = 0.127, acc = 0.921\n",
      "Epoch 8 | Step 300 | loss = 0.114, acc = 0.928\n",
      "Epoch 8 | Step 400 | loss = 0.107, acc = 0.933\n",
      "Epoch 8 | Step 500 | loss = 0.120, acc = 0.927\n",
      "Epoch 8 | Step 600 | loss = 0.130, acc = 0.919\n",
      "Epoch 8 | Step 700 | loss = 0.113, acc = 0.930\n",
      "Epoch 8 | Step 800 | loss = 0.114, acc = 0.925\n",
      "Evaluating Dev Set ...\n"
     ]
    },
    {
     "data": {
      "application/vnd.jupyter.widget-view+json": {
       "model_id": "82cc1673c51e44a18bceff635c51f570",
       "version_major": 2,
       "version_minor": 0
      },
      "text/plain": [
       "  0%|          | 0/2863 [00:00<?, ?it/s]"
      ]
     },
     "metadata": {},
     "output_type": "display_data"
    },
    {
     "name": "stdout",
     "output_type": "stream",
     "text": [
      "Validation | Epoch 8 | acc = 0.768\n"
     ]
    },
    {
     "data": {
      "application/vnd.jupyter.widget-view+json": {
       "model_id": "957cf979877b453db13c0e20ee2af44d",
       "version_major": 2,
       "version_minor": 0
      },
      "text/plain": [
       "  0%|          | 0/842 [00:00<?, ?it/s]"
      ]
     },
     "metadata": {},
     "output_type": "display_data"
    },
    {
     "name": "stdout",
     "output_type": "stream",
     "text": [
      "Epoch 9 | Step 100 | loss = 0.104, acc = 0.917\n",
      "Epoch 9 | Step 200 | loss = 0.122, acc = 0.919\n",
      "Epoch 9 | Step 300 | loss = 0.113, acc = 0.927\n",
      "Epoch 9 | Step 400 | loss = 0.122, acc = 0.925\n",
      "Epoch 9 | Step 500 | loss = 0.112, acc = 0.933\n",
      "Epoch 9 | Step 600 | loss = 0.112, acc = 0.927\n",
      "Epoch 9 | Step 700 | loss = 0.126, acc = 0.926\n",
      "Epoch 9 | Step 800 | loss = 0.120, acc = 0.926\n",
      "Evaluating Dev Set ...\n"
     ]
    },
    {
     "data": {
      "application/vnd.jupyter.widget-view+json": {
       "model_id": "879475a5824a4712abbac44dd23ccae9",
       "version_major": 2,
       "version_minor": 0
      },
      "text/plain": [
       "  0%|          | 0/2863 [00:00<?, ?it/s]"
      ]
     },
     "metadata": {},
     "output_type": "display_data"
    },
    {
     "name": "stdout",
     "output_type": "stream",
     "text": [
      "Validation | Epoch 9 | acc = 0.764\n"
     ]
    },
    {
     "data": {
      "application/vnd.jupyter.widget-view+json": {
       "model_id": "d943e2baf8584e29a088234536e930db",
       "version_major": 2,
       "version_minor": 0
      },
      "text/plain": [
       "  0%|          | 0/842 [00:00<?, ?it/s]"
      ]
     },
     "metadata": {},
     "output_type": "display_data"
    },
    {
     "name": "stdout",
     "output_type": "stream",
     "text": [
      "Epoch 10 | Step 100 | loss = 0.117, acc = 0.919\n",
      "Epoch 10 | Step 200 | loss = 0.116, acc = 0.927\n",
      "Epoch 10 | Step 300 | loss = 0.132, acc = 0.919\n",
      "Epoch 10 | Step 400 | loss = 0.111, acc = 0.931\n",
      "Epoch 10 | Step 500 | loss = 0.114, acc = 0.927\n",
      "Epoch 10 | Step 600 | loss = 0.109, acc = 0.933\n",
      "Epoch 10 | Step 700 | loss = 0.119, acc = 0.924\n",
      "Epoch 10 | Step 800 | loss = 0.115, acc = 0.931\n",
      "Evaluating Dev Set ...\n"
     ]
    },
    {
     "data": {
      "application/vnd.jupyter.widget-view+json": {
       "model_id": "dfc41307c3f34a48bf750cc376694693",
       "version_major": 2,
       "version_minor": 0
      },
      "text/plain": [
       "  0%|          | 0/2863 [00:00<?, ?it/s]"
      ]
     },
     "metadata": {},
     "output_type": "display_data"
    },
    {
     "name": "stdout",
     "output_type": "stream",
     "text": [
      "Validation | Epoch 10 | acc = 0.766\n"
     ]
    },
    {
     "data": {
      "application/vnd.jupyter.widget-view+json": {
       "model_id": "4dd8c33a5f8c4d6ba03f8bf65802b478",
       "version_major": 2,
       "version_minor": 0
      },
      "text/plain": [
       "  0%|          | 0/842 [00:00<?, ?it/s]"
      ]
     },
     "metadata": {},
     "output_type": "display_data"
    },
    {
     "name": "stdout",
     "output_type": "stream",
     "text": [
      "Epoch 11 | Step 100 | loss = 0.119, acc = 0.912\n",
      "Epoch 11 | Step 200 | loss = 0.117, acc = 0.933\n",
      "Epoch 11 | Step 300 | loss = 0.114, acc = 0.940\n",
      "Epoch 11 | Step 400 | loss = 0.103, acc = 0.937\n",
      "Epoch 11 | Step 500 | loss = 0.110, acc = 0.931\n",
      "Epoch 11 | Step 600 | loss = 0.105, acc = 0.934\n",
      "Epoch 11 | Step 700 | loss = 0.121, acc = 0.928\n",
      "Epoch 11 | Step 800 | loss = 0.113, acc = 0.922\n",
      "Evaluating Dev Set ...\n"
     ]
    },
    {
     "data": {
      "application/vnd.jupyter.widget-view+json": {
       "model_id": "516dac52d0ad48d585474caad09e7d6e",
       "version_major": 2,
       "version_minor": 0
      },
      "text/plain": [
       "  0%|          | 0/2863 [00:00<?, ?it/s]"
      ]
     },
     "metadata": {},
     "output_type": "display_data"
    },
    {
     "name": "stdout",
     "output_type": "stream",
     "text": [
      "Validation | Epoch 11 | acc = 0.766\n"
     ]
    },
    {
     "data": {
      "application/vnd.jupyter.widget-view+json": {
       "model_id": "d78b31a9d9694c85b4345ec221367b1c",
       "version_major": 2,
       "version_minor": 0
      },
      "text/plain": [
       "  0%|          | 0/842 [00:00<?, ?it/s]"
      ]
     },
     "metadata": {},
     "output_type": "display_data"
    },
    {
     "name": "stdout",
     "output_type": "stream",
     "text": [
      "Epoch 12 | Step 100 | loss = 0.113, acc = 0.921\n",
      "Epoch 12 | Step 200 | loss = 0.112, acc = 0.933\n",
      "Epoch 12 | Step 300 | loss = 0.120, acc = 0.925\n",
      "Epoch 12 | Step 400 | loss = 0.113, acc = 0.929\n",
      "Epoch 12 | Step 500 | loss = 0.106, acc = 0.933\n",
      "Epoch 12 | Step 600 | loss = 0.112, acc = 0.930\n",
      "Epoch 12 | Step 700 | loss = 0.113, acc = 0.931\n",
      "Epoch 12 | Step 800 | loss = 0.107, acc = 0.938\n",
      "Evaluating Dev Set ...\n"
     ]
    },
    {
     "data": {
      "application/vnd.jupyter.widget-view+json": {
       "model_id": "d7799de59c0f448e88d04c79c74aef0a",
       "version_major": 2,
       "version_minor": 0
      },
      "text/plain": [
       "  0%|          | 0/2863 [00:00<?, ?it/s]"
      ]
     },
     "metadata": {},
     "output_type": "display_data"
    },
    {
     "name": "stdout",
     "output_type": "stream",
     "text": [
      "Validation | Epoch 12 | acc = 0.763\n"
     ]
    },
    {
     "data": {
      "application/vnd.jupyter.widget-view+json": {
       "model_id": "2fa9af00393b461ba2509e7dd3f4d7cb",
       "version_major": 2,
       "version_minor": 0
      },
      "text/plain": [
       "  0%|          | 0/842 [00:00<?, ?it/s]"
      ]
     },
     "metadata": {},
     "output_type": "display_data"
    },
    {
     "name": "stdout",
     "output_type": "stream",
     "text": [
      "Epoch 13 | Step 100 | loss = 0.099, acc = 0.931\n",
      "Epoch 13 | Step 200 | loss = 0.108, acc = 0.938\n",
      "Epoch 13 | Step 300 | loss = 0.114, acc = 0.936\n",
      "Epoch 13 | Step 400 | loss = 0.113, acc = 0.930\n",
      "Epoch 13 | Step 500 | loss = 0.104, acc = 0.931\n",
      "Epoch 13 | Step 600 | loss = 0.118, acc = 0.928\n",
      "Epoch 13 | Step 700 | loss = 0.112, acc = 0.934\n",
      "Epoch 13 | Step 800 | loss = 0.112, acc = 0.933\n",
      "Evaluating Dev Set ...\n"
     ]
    },
    {
     "data": {
      "application/vnd.jupyter.widget-view+json": {
       "model_id": "c5827beada5e49e69872cd664cf9e390",
       "version_major": 2,
       "version_minor": 0
      },
      "text/plain": [
       "  0%|          | 0/2863 [00:00<?, ?it/s]"
      ]
     },
     "metadata": {},
     "output_type": "display_data"
    },
    {
     "name": "stdout",
     "output_type": "stream",
     "text": [
      "Validation | Epoch 13 | acc = 0.761\n"
     ]
    },
    {
     "data": {
      "application/vnd.jupyter.widget-view+json": {
       "model_id": "f0c8606fbe0b4ac8922d6b6ca816dea3",
       "version_major": 2,
       "version_minor": 0
      },
      "text/plain": [
       "  0%|          | 0/842 [00:00<?, ?it/s]"
      ]
     },
     "metadata": {},
     "output_type": "display_data"
    },
    {
     "name": "stdout",
     "output_type": "stream",
     "text": [
      "Epoch 14 | Step 100 | loss = 0.112, acc = 0.923\n",
      "Epoch 14 | Step 200 | loss = 0.098, acc = 0.942\n",
      "Epoch 14 | Step 300 | loss = 0.104, acc = 0.937\n",
      "Epoch 14 | Step 400 | loss = 0.111, acc = 0.927\n",
      "Epoch 14 | Step 500 | loss = 0.114, acc = 0.933\n",
      "Epoch 14 | Step 600 | loss = 0.115, acc = 0.933\n",
      "Epoch 14 | Step 700 | loss = 0.103, acc = 0.930\n",
      "Epoch 14 | Step 800 | loss = 0.113, acc = 0.929\n",
      "Evaluating Dev Set ...\n"
     ]
    },
    {
     "data": {
      "application/vnd.jupyter.widget-view+json": {
       "model_id": "dd866b83d49241b08fe83d51754a6a31",
       "version_major": 2,
       "version_minor": 0
      },
      "text/plain": [
       "  0%|          | 0/2863 [00:00<?, ?it/s]"
      ]
     },
     "metadata": {},
     "output_type": "display_data"
    },
    {
     "name": "stdout",
     "output_type": "stream",
     "text": [
      "Validation | Epoch 14 | acc = 0.759\n"
     ]
    },
    {
     "data": {
      "application/vnd.jupyter.widget-view+json": {
       "model_id": "fa2d2dbd6d9d4d138302b5c49ca65044",
       "version_major": 2,
       "version_minor": 0
      },
      "text/plain": [
       "  0%|          | 0/842 [00:00<?, ?it/s]"
      ]
     },
     "metadata": {},
     "output_type": "display_data"
    },
    {
     "name": "stdout",
     "output_type": "stream",
     "text": [
      "Epoch 15 | Step 100 | loss = 0.096, acc = 0.931\n",
      "Epoch 15 | Step 200 | loss = 0.110, acc = 0.930\n",
      "Epoch 15 | Step 300 | loss = 0.112, acc = 0.928\n",
      "Epoch 15 | Step 400 | loss = 0.105, acc = 0.935\n",
      "Epoch 15 | Step 500 | loss = 0.119, acc = 0.924\n",
      "Epoch 15 | Step 600 | loss = 0.102, acc = 0.933\n",
      "Epoch 15 | Step 700 | loss = 0.096, acc = 0.938\n",
      "Epoch 15 | Step 800 | loss = 0.105, acc = 0.939\n",
      "Evaluating Dev Set ...\n"
     ]
    },
    {
     "data": {
      "application/vnd.jupyter.widget-view+json": {
       "model_id": "18d2687c50b44dd6b026bd8066e11fe4",
       "version_major": 2,
       "version_minor": 0
      },
      "text/plain": [
       "  0%|          | 0/2863 [00:00<?, ?it/s]"
      ]
     },
     "metadata": {},
     "output_type": "display_data"
    },
    {
     "name": "stdout",
     "output_type": "stream",
     "text": [
      "Validation | Epoch 15 | acc = 0.760\n"
     ]
    },
    {
     "data": {
      "application/vnd.jupyter.widget-view+json": {
       "model_id": "7ee93880edd74c958aa18c8a5a09c819",
       "version_major": 2,
       "version_minor": 0
      },
      "text/plain": [
       "  0%|          | 0/842 [00:00<?, ?it/s]"
      ]
     },
     "metadata": {},
     "output_type": "display_data"
    },
    {
     "name": "stdout",
     "output_type": "stream",
     "text": [
      "Epoch 16 | Step 100 | loss = 0.105, acc = 0.922\n",
      "Epoch 16 | Step 200 | loss = 0.100, acc = 0.937\n",
      "Epoch 16 | Step 300 | loss = 0.102, acc = 0.940\n",
      "Epoch 16 | Step 400 | loss = 0.099, acc = 0.940\n",
      "Epoch 16 | Step 500 | loss = 0.107, acc = 0.936\n",
      "Epoch 16 | Step 600 | loss = 0.109, acc = 0.931\n",
      "Epoch 16 | Step 700 | loss = 0.101, acc = 0.936\n",
      "Epoch 16 | Step 800 | loss = 0.102, acc = 0.938\n",
      "Evaluating Dev Set ...\n"
     ]
    },
    {
     "data": {
      "application/vnd.jupyter.widget-view+json": {
       "model_id": "7e3e5b91b9644a8c83bfda682c56e784",
       "version_major": 2,
       "version_minor": 0
      },
      "text/plain": [
       "  0%|          | 0/2863 [00:00<?, ?it/s]"
      ]
     },
     "metadata": {},
     "output_type": "display_data"
    },
    {
     "name": "stdout",
     "output_type": "stream",
     "text": [
      "Validation | Epoch 16 | acc = 0.761\n"
     ]
    },
    {
     "data": {
      "application/vnd.jupyter.widget-view+json": {
       "model_id": "866eda44dfe34dd585a369edb6919377",
       "version_major": 2,
       "version_minor": 0
      },
      "text/plain": [
       "  0%|          | 0/842 [00:00<?, ?it/s]"
      ]
     },
     "metadata": {},
     "output_type": "display_data"
    },
    {
     "name": "stdout",
     "output_type": "stream",
     "text": [
      "Epoch 17 | Step 100 | loss = 0.101, acc = 0.930\n",
      "Epoch 17 | Step 200 | loss = 0.105, acc = 0.936\n",
      "Epoch 17 | Step 300 | loss = 0.108, acc = 0.934\n",
      "Epoch 17 | Step 400 | loss = 0.106, acc = 0.935\n",
      "Epoch 17 | Step 500 | loss = 0.099, acc = 0.942\n",
      "Epoch 17 | Step 600 | loss = 0.096, acc = 0.944\n",
      "Epoch 17 | Step 700 | loss = 0.115, acc = 0.935\n",
      "Epoch 17 | Step 800 | loss = 0.102, acc = 0.941\n",
      "Evaluating Dev Set ...\n"
     ]
    },
    {
     "data": {
      "application/vnd.jupyter.widget-view+json": {
       "model_id": "b8abf81e7ea7459a951f1b56baeb3281",
       "version_major": 2,
       "version_minor": 0
      },
      "text/plain": [
       "  0%|          | 0/2863 [00:00<?, ?it/s]"
      ]
     },
     "metadata": {},
     "output_type": "display_data"
    },
    {
     "name": "stdout",
     "output_type": "stream",
     "text": [
      "Validation | Epoch 17 | acc = 0.761\n"
     ]
    },
    {
     "data": {
      "application/vnd.jupyter.widget-view+json": {
       "model_id": "ee971fecc2a74f36852e2179c525c12b",
       "version_major": 2,
       "version_minor": 0
      },
      "text/plain": [
       "  0%|          | 0/842 [00:00<?, ?it/s]"
      ]
     },
     "metadata": {},
     "output_type": "display_data"
    },
    {
     "name": "stdout",
     "output_type": "stream",
     "text": [
      "Epoch 18 | Step 100 | loss = 0.094, acc = 0.931\n",
      "Epoch 18 | Step 200 | loss = 0.096, acc = 0.939\n",
      "Epoch 18 | Step 300 | loss = 0.107, acc = 0.933\n",
      "Epoch 18 | Step 400 | loss = 0.101, acc = 0.935\n",
      "Epoch 18 | Step 500 | loss = 0.094, acc = 0.942\n",
      "Epoch 18 | Step 600 | loss = 0.102, acc = 0.940\n",
      "Epoch 18 | Step 700 | loss = 0.110, acc = 0.928\n",
      "Epoch 18 | Step 800 | loss = 0.101, acc = 0.938\n",
      "Evaluating Dev Set ...\n"
     ]
    },
    {
     "data": {
      "application/vnd.jupyter.widget-view+json": {
       "model_id": "b88d5200d6e14e8dbfb51cb70c42923c",
       "version_major": 2,
       "version_minor": 0
      },
      "text/plain": [
       "  0%|          | 0/2863 [00:00<?, ?it/s]"
      ]
     },
     "metadata": {},
     "output_type": "display_data"
    },
    {
     "name": "stdout",
     "output_type": "stream",
     "text": [
      "Validation | Epoch 18 | acc = 0.758\n"
     ]
    },
    {
     "data": {
      "application/vnd.jupyter.widget-view+json": {
       "model_id": "3c339f1d8bd6450d84c89fd2beb6e582",
       "version_major": 2,
       "version_minor": 0
      },
      "text/plain": [
       "  0%|          | 0/842 [00:00<?, ?it/s]"
      ]
     },
     "metadata": {},
     "output_type": "display_data"
    },
    {
     "name": "stdout",
     "output_type": "stream",
     "text": [
      "Epoch 19 | Step 100 | loss = 0.095, acc = 0.931\n",
      "Epoch 19 | Step 200 | loss = 0.091, acc = 0.949\n",
      "Epoch 19 | Step 300 | loss = 0.091, acc = 0.939\n",
      "Epoch 19 | Step 400 | loss = 0.104, acc = 0.933\n",
      "Epoch 19 | Step 500 | loss = 0.098, acc = 0.938\n",
      "Epoch 19 | Step 600 | loss = 0.089, acc = 0.944\n",
      "Epoch 19 | Step 700 | loss = 0.097, acc = 0.943\n",
      "Epoch 19 | Step 800 | loss = 0.095, acc = 0.944\n",
      "Evaluating Dev Set ...\n"
     ]
    },
    {
     "data": {
      "application/vnd.jupyter.widget-view+json": {
       "model_id": "2b51ef1123514e77b84c4a04f526499d",
       "version_major": 2,
       "version_minor": 0
      },
      "text/plain": [
       "  0%|          | 0/2863 [00:00<?, ?it/s]"
      ]
     },
     "metadata": {},
     "output_type": "display_data"
    },
    {
     "name": "stdout",
     "output_type": "stream",
     "text": [
      "Validation | Epoch 19 | acc = 0.756\n"
     ]
    },
    {
     "data": {
      "application/vnd.jupyter.widget-view+json": {
       "model_id": "62714a9cf797463ebb3f258097dfc498",
       "version_major": 2,
       "version_minor": 0
      },
      "text/plain": [
       "  0%|          | 0/842 [00:00<?, ?it/s]"
      ]
     },
     "metadata": {},
     "output_type": "display_data"
    },
    {
     "name": "stdout",
     "output_type": "stream",
     "text": [
      "Epoch 20 | Step 100 | loss = 0.095, acc = 0.941\n",
      "Epoch 20 | Step 200 | loss = 0.099, acc = 0.937\n",
      "Epoch 20 | Step 300 | loss = 0.101, acc = 0.939\n",
      "Epoch 20 | Step 400 | loss = 0.091, acc = 0.947\n",
      "Epoch 20 | Step 500 | loss = 0.095, acc = 0.942\n",
      "Epoch 20 | Step 600 | loss = 0.093, acc = 0.945\n",
      "Epoch 20 | Step 700 | loss = 0.104, acc = 0.939\n",
      "Epoch 20 | Step 800 | loss = 0.085, acc = 0.941\n",
      "Evaluating Dev Set ...\n"
     ]
    },
    {
     "data": {
      "application/vnd.jupyter.widget-view+json": {
       "model_id": "27c4f2b576944150aa868821b0d8ca6a",
       "version_major": 2,
       "version_minor": 0
      },
      "text/plain": [
       "  0%|          | 0/2863 [00:00<?, ?it/s]"
      ]
     },
     "metadata": {},
     "output_type": "display_data"
    },
    {
     "name": "stdout",
     "output_type": "stream",
     "text": [
      "Validation | Epoch 20 | acc = 0.762\n"
     ]
    },
    {
     "data": {
      "application/vnd.jupyter.widget-view+json": {
       "model_id": "4c5bfe5f1514481296e94e5c77a8b9f0",
       "version_major": 2,
       "version_minor": 0
      },
      "text/plain": [
       "  0%|          | 0/842 [00:00<?, ?it/s]"
      ]
     },
     "metadata": {},
     "output_type": "display_data"
    },
    {
     "name": "stdout",
     "output_type": "stream",
     "text": [
      "Epoch 21 | Step 100 | loss = 0.101, acc = 0.926\n",
      "Epoch 21 | Step 200 | loss = 0.087, acc = 0.947\n",
      "Epoch 21 | Step 300 | loss = 0.094, acc = 0.940\n",
      "Epoch 21 | Step 400 | loss = 0.100, acc = 0.940\n",
      "Epoch 21 | Step 500 | loss = 0.104, acc = 0.938\n",
      "Epoch 21 | Step 600 | loss = 0.092, acc = 0.941\n",
      "Epoch 21 | Step 700 | loss = 0.092, acc = 0.943\n",
      "Epoch 21 | Step 800 | loss = 0.084, acc = 0.943\n",
      "Evaluating Dev Set ...\n"
     ]
    },
    {
     "data": {
      "application/vnd.jupyter.widget-view+json": {
       "model_id": "05ceea4534fe46a4b85318fd3987f683",
       "version_major": 2,
       "version_minor": 0
      },
      "text/plain": [
       "  0%|          | 0/2863 [00:00<?, ?it/s]"
      ]
     },
     "metadata": {},
     "output_type": "display_data"
    },
    {
     "name": "stdout",
     "output_type": "stream",
     "text": [
      "Validation | Epoch 21 | acc = 0.761\n"
     ]
    },
    {
     "data": {
      "application/vnd.jupyter.widget-view+json": {
       "model_id": "96e13dd743084aa38bed081b5b3bb58b",
       "version_major": 2,
       "version_minor": 0
      },
      "text/plain": [
       "  0%|          | 0/842 [00:00<?, ?it/s]"
      ]
     },
     "metadata": {},
     "output_type": "display_data"
    },
    {
     "name": "stdout",
     "output_type": "stream",
     "text": [
      "Epoch 22 | Step 100 | loss = 0.086, acc = 0.937\n",
      "Epoch 22 | Step 200 | loss = 0.093, acc = 0.946\n",
      "Epoch 22 | Step 300 | loss = 0.095, acc = 0.944\n",
      "Epoch 22 | Step 400 | loss = 0.087, acc = 0.947\n",
      "Epoch 22 | Step 500 | loss = 0.099, acc = 0.939\n",
      "Epoch 22 | Step 600 | loss = 0.100, acc = 0.940\n",
      "Epoch 22 | Step 700 | loss = 0.093, acc = 0.938\n",
      "Epoch 22 | Step 800 | loss = 0.087, acc = 0.943\n",
      "Evaluating Dev Set ...\n"
     ]
    },
    {
     "data": {
      "application/vnd.jupyter.widget-view+json": {
       "model_id": "39e4c658fdd64871ac23fca7fac5486f",
       "version_major": 2,
       "version_minor": 0
      },
      "text/plain": [
       "  0%|          | 0/2863 [00:00<?, ?it/s]"
      ]
     },
     "metadata": {},
     "output_type": "display_data"
    },
    {
     "name": "stdout",
     "output_type": "stream",
     "text": [
      "Validation | Epoch 22 | acc = 0.761\n"
     ]
    },
    {
     "data": {
      "application/vnd.jupyter.widget-view+json": {
       "model_id": "89ad0c780ec0449f9f1f4b3a6d644677",
       "version_major": 2,
       "version_minor": 0
      },
      "text/plain": [
       "  0%|          | 0/842 [00:00<?, ?it/s]"
      ]
     },
     "metadata": {},
     "output_type": "display_data"
    },
    {
     "name": "stdout",
     "output_type": "stream",
     "text": [
      "Epoch 23 | Step 100 | loss = 0.088, acc = 0.931\n",
      "Epoch 23 | Step 200 | loss = 0.084, acc = 0.945\n",
      "Epoch 23 | Step 300 | loss = 0.087, acc = 0.945\n",
      "Epoch 23 | Step 400 | loss = 0.084, acc = 0.945\n",
      "Epoch 23 | Step 500 | loss = 0.089, acc = 0.945\n",
      "Epoch 23 | Step 600 | loss = 0.085, acc = 0.948\n",
      "Epoch 23 | Step 700 | loss = 0.093, acc = 0.943\n",
      "Epoch 23 | Step 800 | loss = 0.093, acc = 0.944\n",
      "Evaluating Dev Set ...\n"
     ]
    },
    {
     "data": {
      "application/vnd.jupyter.widget-view+json": {
       "model_id": "88111b2e3331421089a84ba5a89fee60",
       "version_major": 2,
       "version_minor": 0
      },
      "text/plain": [
       "  0%|          | 0/2863 [00:00<?, ?it/s]"
      ]
     },
     "metadata": {},
     "output_type": "display_data"
    },
    {
     "name": "stdout",
     "output_type": "stream",
     "text": [
      "Validation | Epoch 23 | acc = 0.752\n"
     ]
    },
    {
     "data": {
      "application/vnd.jupyter.widget-view+json": {
       "model_id": "e677280a911a430b8a3b270719f4deca",
       "version_major": 2,
       "version_minor": 0
      },
      "text/plain": [
       "  0%|          | 0/842 [00:00<?, ?it/s]"
      ]
     },
     "metadata": {},
     "output_type": "display_data"
    },
    {
     "name": "stdout",
     "output_type": "stream",
     "text": [
      "Epoch 24 | Step 100 | loss = 0.084, acc = 0.939\n",
      "Epoch 24 | Step 200 | loss = 0.087, acc = 0.946\n",
      "Epoch 24 | Step 300 | loss = 0.091, acc = 0.942\n",
      "Epoch 24 | Step 400 | loss = 0.085, acc = 0.943\n",
      "Epoch 24 | Step 500 | loss = 0.087, acc = 0.950\n",
      "Epoch 24 | Step 600 | loss = 0.089, acc = 0.942\n",
      "Epoch 24 | Step 700 | loss = 0.082, acc = 0.945\n",
      "Epoch 24 | Step 800 | loss = 0.084, acc = 0.945\n",
      "Evaluating Dev Set ...\n"
     ]
    },
    {
     "data": {
      "application/vnd.jupyter.widget-view+json": {
       "model_id": "78a0536f887946abb60c69be1e80de8b",
       "version_major": 2,
       "version_minor": 0
      },
      "text/plain": [
       "  0%|          | 0/2863 [00:00<?, ?it/s]"
      ]
     },
     "metadata": {},
     "output_type": "display_data"
    },
    {
     "name": "stdout",
     "output_type": "stream",
     "text": [
      "Validation | Epoch 24 | acc = 0.756\n"
     ]
    },
    {
     "data": {
      "application/vnd.jupyter.widget-view+json": {
       "model_id": "b8ae3e10f8274d3982b9a486b6ea1bb4",
       "version_major": 2,
       "version_minor": 0
      },
      "text/plain": [
       "  0%|          | 0/842 [00:00<?, ?it/s]"
      ]
     },
     "metadata": {},
     "output_type": "display_data"
    },
    {
     "name": "stdout",
     "output_type": "stream",
     "text": [
      "Epoch 25 | Step 100 | loss = 0.078, acc = 0.936\n",
      "Epoch 25 | Step 200 | loss = 0.080, acc = 0.945\n",
      "Epoch 25 | Step 300 | loss = 0.084, acc = 0.951\n",
      "Epoch 25 | Step 400 | loss = 0.079, acc = 0.944\n",
      "Epoch 25 | Step 500 | loss = 0.085, acc = 0.945\n",
      "Epoch 25 | Step 600 | loss = 0.085, acc = 0.945\n",
      "Epoch 25 | Step 700 | loss = 0.077, acc = 0.954\n",
      "Epoch 25 | Step 800 | loss = 0.088, acc = 0.949\n",
      "Evaluating Dev Set ...\n"
     ]
    },
    {
     "data": {
      "application/vnd.jupyter.widget-view+json": {
       "model_id": "b30cccebee8f487cbbed68f2ebd83baa",
       "version_major": 2,
       "version_minor": 0
      },
      "text/plain": [
       "  0%|          | 0/2863 [00:00<?, ?it/s]"
      ]
     },
     "metadata": {},
     "output_type": "display_data"
    },
    {
     "name": "stdout",
     "output_type": "stream",
     "text": [
      "Validation | Epoch 25 | acc = 0.755\n"
     ]
    },
    {
     "data": {
      "application/vnd.jupyter.widget-view+json": {
       "model_id": "8ac39e09d4524b58b2c6b16e84e5f926",
       "version_major": 2,
       "version_minor": 0
      },
      "text/plain": [
       "  0%|          | 0/842 [00:00<?, ?it/s]"
      ]
     },
     "metadata": {},
     "output_type": "display_data"
    },
    {
     "name": "stdout",
     "output_type": "stream",
     "text": [
      "Epoch 26 | Step 100 | loss = 0.079, acc = 0.937\n",
      "Epoch 26 | Step 200 | loss = 0.075, acc = 0.954\n",
      "Epoch 26 | Step 300 | loss = 0.077, acc = 0.949\n",
      "Epoch 26 | Step 400 | loss = 0.078, acc = 0.950\n",
      "Epoch 26 | Step 500 | loss = 0.086, acc = 0.946\n",
      "Epoch 26 | Step 600 | loss = 0.077, acc = 0.949\n",
      "Epoch 26 | Step 700 | loss = 0.083, acc = 0.947\n",
      "Epoch 26 | Step 800 | loss = 0.085, acc = 0.945\n",
      "Evaluating Dev Set ...\n"
     ]
    },
    {
     "data": {
      "application/vnd.jupyter.widget-view+json": {
       "model_id": "adb601efcd8b4ffe8c3d4a976c355015",
       "version_major": 2,
       "version_minor": 0
      },
      "text/plain": [
       "  0%|          | 0/2863 [00:00<?, ?it/s]"
      ]
     },
     "metadata": {},
     "output_type": "display_data"
    },
    {
     "name": "stdout",
     "output_type": "stream",
     "text": [
      "Validation | Epoch 26 | acc = 0.749\n"
     ]
    },
    {
     "data": {
      "application/vnd.jupyter.widget-view+json": {
       "model_id": "e1d89fa8ffc7489dbe8ab6a526d8f4b7",
       "version_major": 2,
       "version_minor": 0
      },
      "text/plain": [
       "  0%|          | 0/842 [00:00<?, ?it/s]"
      ]
     },
     "metadata": {},
     "output_type": "display_data"
    },
    {
     "name": "stdout",
     "output_type": "stream",
     "text": [
      "Epoch 27 | Step 100 | loss = 0.080, acc = 0.942\n",
      "Epoch 27 | Step 200 | loss = 0.077, acc = 0.948\n",
      "Epoch 27 | Step 300 | loss = 0.082, acc = 0.948\n",
      "Epoch 27 | Step 400 | loss = 0.080, acc = 0.952\n",
      "Epoch 27 | Step 500 | loss = 0.076, acc = 0.952\n",
      "Epoch 27 | Step 600 | loss = 0.069, acc = 0.960\n",
      "Epoch 27 | Step 700 | loss = 0.093, acc = 0.943\n",
      "Epoch 27 | Step 800 | loss = 0.083, acc = 0.949\n",
      "Evaluating Dev Set ...\n"
     ]
    },
    {
     "data": {
      "application/vnd.jupyter.widget-view+json": {
       "model_id": "bb5f89e733754982a299a375a322e673",
       "version_major": 2,
       "version_minor": 0
      },
      "text/plain": [
       "  0%|          | 0/2863 [00:00<?, ?it/s]"
      ]
     },
     "metadata": {},
     "output_type": "display_data"
    },
    {
     "name": "stdout",
     "output_type": "stream",
     "text": [
      "Validation | Epoch 27 | acc = 0.742\n"
     ]
    },
    {
     "data": {
      "application/vnd.jupyter.widget-view+json": {
       "model_id": "22efe50f221c462e9925e60ddf445129",
       "version_major": 2,
       "version_minor": 0
      },
      "text/plain": [
       "  0%|          | 0/842 [00:00<?, ?it/s]"
      ]
     },
     "metadata": {},
     "output_type": "display_data"
    },
    {
     "name": "stdout",
     "output_type": "stream",
     "text": [
      "Epoch 28 | Step 100 | loss = 0.076, acc = 0.942\n",
      "Epoch 28 | Step 200 | loss = 0.078, acc = 0.954\n",
      "Epoch 28 | Step 300 | loss = 0.079, acc = 0.948\n",
      "Epoch 28 | Step 400 | loss = 0.073, acc = 0.957\n",
      "Epoch 28 | Step 500 | loss = 0.087, acc = 0.948\n",
      "Epoch 28 | Step 600 | loss = 0.084, acc = 0.949\n",
      "Epoch 28 | Step 700 | loss = 0.077, acc = 0.948\n",
      "Epoch 28 | Step 800 | loss = 0.081, acc = 0.949\n",
      "Evaluating Dev Set ...\n"
     ]
    },
    {
     "data": {
      "application/vnd.jupyter.widget-view+json": {
       "model_id": "18810f4d70a943458bf33a3f291d7f6a",
       "version_major": 2,
       "version_minor": 0
      },
      "text/plain": [
       "  0%|          | 0/2863 [00:00<?, ?it/s]"
      ]
     },
     "metadata": {},
     "output_type": "display_data"
    },
    {
     "name": "stdout",
     "output_type": "stream",
     "text": [
      "Validation | Epoch 28 | acc = 0.744\n"
     ]
    },
    {
     "data": {
      "application/vnd.jupyter.widget-view+json": {
       "model_id": "fad663d8fcd643819aa11d15484015b3",
       "version_major": 2,
       "version_minor": 0
      },
      "text/plain": [
       "  0%|          | 0/842 [00:00<?, ?it/s]"
      ]
     },
     "metadata": {},
     "output_type": "display_data"
    },
    {
     "name": "stdout",
     "output_type": "stream",
     "text": [
      "Epoch 29 | Step 100 | loss = 0.070, acc = 0.944\n",
      "Epoch 29 | Step 200 | loss = 0.072, acc = 0.955\n",
      "Epoch 29 | Step 300 | loss = 0.072, acc = 0.952\n",
      "Epoch 29 | Step 400 | loss = 0.076, acc = 0.950\n",
      "Epoch 29 | Step 500 | loss = 0.074, acc = 0.950\n",
      "Epoch 29 | Step 600 | loss = 0.081, acc = 0.948\n",
      "Epoch 29 | Step 700 | loss = 0.078, acc = 0.953\n",
      "Epoch 29 | Step 800 | loss = 0.066, acc = 0.959\n",
      "Evaluating Dev Set ...\n"
     ]
    },
    {
     "data": {
      "application/vnd.jupyter.widget-view+json": {
       "model_id": "715a7ab8dca5473aaf380476cd34399a",
       "version_major": 2,
       "version_minor": 0
      },
      "text/plain": [
       "  0%|          | 0/2863 [00:00<?, ?it/s]"
      ]
     },
     "metadata": {},
     "output_type": "display_data"
    },
    {
     "name": "stdout",
     "output_type": "stream",
     "text": [
      "Validation | Epoch 29 | acc = 0.752\n"
     ]
    },
    {
     "data": {
      "application/vnd.jupyter.widget-view+json": {
       "model_id": "467b1a7065634d90b82a347c9a1f0f43",
       "version_major": 2,
       "version_minor": 0
      },
      "text/plain": [
       "  0%|          | 0/842 [00:00<?, ?it/s]"
      ]
     },
     "metadata": {},
     "output_type": "display_data"
    },
    {
     "name": "stdout",
     "output_type": "stream",
     "text": [
      "Epoch 30 | Step 100 | loss = 0.079, acc = 0.941\n",
      "Epoch 30 | Step 200 | loss = 0.074, acc = 0.947\n",
      "Epoch 30 | Step 300 | loss = 0.074, acc = 0.956\n",
      "Epoch 30 | Step 400 | loss = 0.074, acc = 0.953\n",
      "Epoch 30 | Step 500 | loss = 0.064, acc = 0.959\n",
      "Epoch 30 | Step 600 | loss = 0.070, acc = 0.957\n",
      "Epoch 30 | Step 700 | loss = 0.077, acc = 0.956\n",
      "Epoch 30 | Step 800 | loss = 0.076, acc = 0.955\n",
      "Evaluating Dev Set ...\n"
     ]
    },
    {
     "data": {
      "application/vnd.jupyter.widget-view+json": {
       "model_id": "845e78f0f0164494bee40a075c6e9a34",
       "version_major": 2,
       "version_minor": 0
      },
      "text/plain": [
       "  0%|          | 0/2863 [00:00<?, ?it/s]"
      ]
     },
     "metadata": {},
     "output_type": "display_data"
    },
    {
     "name": "stdout",
     "output_type": "stream",
     "text": [
      "Validation | Epoch 30 | acc = 0.731\n",
      "Saving Model ...\n"
     ]
    }
   ],
   "source": [
    "from accelerate import Accelerator\n",
    "\n",
    "# hyperparameters\n",
    "num_epoch = 30\n",
    "validation = True\n",
    "logging_step = 100\n",
    "learning_rate = 1e-5\n",
    "optimizer = AdamW(model.parameters(), lr=learning_rate)\n",
    "scheduler = torch.optim.lr_scheduler.LinearLR(optimizer, start_factor=0.005, total_iters=300)\n",
    "train_batch_size = 32\n",
    "\n",
    "#### TODO: gradient_accumulation (optional)####\n",
    "# Note: train_batch_size * gradient_accumulation_steps = effective batch size\n",
    "# If CUDA out of memory, you can make train_batch_size lower and gradient_accumulation_steps upper\n",
    "# Doc: https://huggingface.co/docs/accelerate/usage_guides/gradient_accumulation\n",
    "gradient_accumulation_steps = 8\n",
    "\n",
    "# dataloader\n",
    "# Note: Do NOT change batch size of dev_loader / test_loader !\n",
    "# Although batch size=1, it is actually a batch consisting of several windows from the same QA pair\n",
    "train_loader = DataLoader(train_set, batch_size=train_batch_size, shuffle=True, pin_memory=True)\n",
    "dev_loader = DataLoader(dev_set, batch_size=1, shuffle=False, pin_memory=True)\n",
    "test_loader = DataLoader(test_set, batch_size=1, shuffle=False, pin_memory=True)\n",
    "\n",
    "\n",
    "# Change \"fp16_training\" to True to support automatic mixed \n",
    "# precision training (fp16)\t\n",
    "fp16_training = True\n",
    "if fp16_training:    \n",
    "    accelerator = Accelerator(mixed_precision=\"fp16\")\n",
    "else:\n",
    "    accelerator = Accelerator()\n",
    "\n",
    "# Documentation for the toolkit:  https://huggingface.co/docs/accelerate/\n",
    "model, optimizer, train_loader = accelerator.prepare(model, optimizer, train_loader) \n",
    "\n",
    "model.train()\n",
    "\n",
    "\n",
    "print(\"Start Training ...\")\n",
    "\n",
    "for epoch in range(num_epoch):\n",
    "    step = 1\n",
    "    train_loss = train_acc = 0\n",
    "    \n",
    "    for data in tqdm(train_loader):\t\n",
    "        # Load all data into GPU\n",
    "        data = [i.to(device) for i in data]\n",
    "        \n",
    "        # Model inputs: input_ids, token_type_ids, attention_mask, start_positions, end_positions (Note: only \"input_ids\" is mandatory)\n",
    "        # Model outputs: start_logits, end_logits, loss (return when start_positions/end_positions are provided)  \n",
    "        output = model(input_ids=data[0], token_type_ids=data[1], attention_mask=data[2], start_positions=data[3], end_positions=data[4])\n",
    "        # Choose the most probable start position / end position\n",
    "        start_index = torch.argmax(output.start_logits, dim=1)\n",
    "        end_index = torch.argmax(output.end_logits, dim=1)\n",
    "        \n",
    "        # Prediction is correct only if both start_index and end_index are correct\n",
    "        train_acc += ((start_index == data[3]) & (end_index == data[4])).float().mean()\n",
    "           \n",
    "        train_loss += output.loss\n",
    "        \n",
    "        accelerator.backward(output.loss)\n",
    "        \n",
    "        step += 1\n",
    "        optimizer.step()\n",
    "        optimizer.zero_grad()\n",
    "\n",
    "        # Print training loss and accuracy over past logging step\n",
    "        if step % logging_step == 0:\n",
    "            print(f\"Epoch {epoch + 1} | Step {step} | loss = {train_loss.item() / logging_step:.3f}, acc = {train_acc / logging_step:.3f}\")\n",
    "            train_loss = train_acc = 0\n",
    "        \n",
    "    ##### TODO: Apply linear learning rate decay #####\n",
    "    scheduler.step()\n",
    "\n",
    "    if validation:\n",
    "        print(\"Evaluating Dev Set ...\")\n",
    "        model.eval()\n",
    "        with torch.no_grad():\n",
    "            dev_acc = 0\n",
    "            for i, data in enumerate(tqdm(dev_loader)):\n",
    "                output = model(input_ids=data[0].squeeze(dim=0).to(device), token_type_ids=data[1].squeeze(dim=0).to(device),\n",
    "                       attention_mask=data[2].squeeze(dim=0).to(device))\n",
    "                # prediction is correct only if answer text exactly matches\n",
    "                dev_acc += evaluate(data, output) == dev_questions[i][\"answer_text\"]\n",
    "            print(f\"Validation | Epoch {epoch + 1} | acc = {dev_acc / len(dev_loader):.3f}\")\n",
    "        model.train()\n",
    "\n",
    "# Save a model and its configuration file to the directory 「saved_model」 \n",
    "# i.e. there are two files under the direcory 「saved_model」: 「pytorch_model.bin」 and 「config.json」\n",
    "# Saved model can be re-loaded using 「model = BertForQuestionAnswering.from_pretrained(\"saved_model\")」\n",
    "print(\"Saving Model ...\")\n",
    "model_save_dir = \"saved_model\" \n",
    "model.save_pretrained(model_save_dir)"
   ]
  },
  {
   "cell_type": "markdown",
   "metadata": {},
   "source": [
    "## Testing"
   ]
  },
  {
   "cell_type": "code",
   "execution_count": 24,
   "metadata": {},
   "outputs": [
    {
     "name": "stdout",
     "output_type": "stream",
     "text": [
      "Evaluating Test Set ...\n"
     ]
    },
    {
     "data": {
      "application/vnd.jupyter.widget-view+json": {
       "model_id": "9e7600851b71432592c39261f64e7d07",
       "version_major": 2,
       "version_minor": 0
      },
      "text/plain": [
       "  0%|          | 0/3524 [00:00<?, ?it/s]"
      ]
     },
     "metadata": {},
     "output_type": "display_data"
    },
    {
     "name": "stdout",
     "output_type": "stream",
     "text": [
      "Completed! Result is in result.csv\n"
     ]
    }
   ],
   "source": [
    "print(\"Evaluating Test Set ...\")\n",
    "\n",
    "result = []\n",
    "\n",
    "model.eval()\n",
    "with torch.no_grad():\n",
    "    for data in tqdm(test_loader):\n",
    "        output = model(input_ids=data[0].squeeze(dim=0).to(device), token_type_ids=data[1].squeeze(dim=0).to(device),\n",
    "                       attention_mask=data[2].squeeze(dim=0).to(device))\n",
    "        result.append(evaluate(data, output))\n",
    "\n",
    "result_file = \"result.csv\"\n",
    "with open(result_file, 'w') as f:\t\n",
    "    f.write(\"ID,Answer\\n\")\n",
    "    for i, test_question in enumerate(test_questions):\n",
    "    # Replace commas in answers with empty strings (since csv is separated by comma)\n",
    "    # Answers in kaggle are processed in the same way\n",
    "        f.write(f\"{test_question['id']},{result[i].replace(',','')}\\n\")\n",
    "\n",
    "print(f\"Completed! Result is in {result_file}\")"
   ]
  },
  {
   "cell_type": "code",
   "execution_count": null,
   "metadata": {},
   "outputs": [],
   "source": []
  }
 ],
 "metadata": {
  "kernelspec": {
   "display_name": "py3.8",
   "language": "python",
   "name": "python3"
  },
  "language_info": {
   "codemirror_mode": {
    "name": "ipython",
    "version": 3
   },
   "file_extension": ".py",
   "mimetype": "text/x-python",
   "name": "python",
   "nbconvert_exporter": "python",
   "pygments_lexer": "ipython3",
   "version": "3.8.0"
  }
 },
 "nbformat": 4,
 "nbformat_minor": 2
}
